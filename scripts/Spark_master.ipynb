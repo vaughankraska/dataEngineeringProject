{
  "cells": [
    {
      "cell_type": "code",
      "execution_count": null,
      "metadata": {
        "colab": {
          "base_uri": "https://localhost:8080/"
        },
        "id": "S7EZE6u52Fdx",
        "outputId": "20797950-882a-4c02-850b-1fe12cbde90c"
      },
      "outputs": [
        {
          "output_type": "stream",
          "name": "stdout",
          "text": [
            "Collecting pyspark\n",
            "  Downloading pyspark-3.5.1.tar.gz (317.0 MB)\n",
            "\u001b[2K     \u001b[90m━━━━━━━━━━━━━━━━━━━━━━━━━━━━━━━━━━━━━━━━\u001b[0m \u001b[32m317.0/317.0 MB\u001b[0m \u001b[31m1.7 MB/s\u001b[0m eta \u001b[36m0:00:00\u001b[0m\n",
            "\u001b[?25h  Preparing metadata (setup.py) ... \u001b[?25l\u001b[?25hdone\n",
            "Requirement already satisfied: py4j==0.10.9.7 in /usr/local/lib/python3.10/dist-packages (from pyspark) (0.10.9.7)\n",
            "Building wheels for collected packages: pyspark\n",
            "  Building wheel for pyspark (setup.py) ... \u001b[?25l\u001b[?25hdone\n",
            "  Created wheel for pyspark: filename=pyspark-3.5.1-py2.py3-none-any.whl size=317488493 sha256=58787cadda01ab95a9ed86971cb3fa7d244147343cad6151eea2cf8aed8feacf\n",
            "  Stored in directory: /root/.cache/pip/wheels/80/1d/60/2c256ed38dddce2fdd93be545214a63e02fbd8d74fb0b7f3a6\n",
            "Successfully built pyspark\n",
            "Installing collected packages: pyspark\n",
            "Successfully installed pyspark-3.5.1\n"
          ]
        }
      ],
      "source": [
        "!pip install pyspark\n"
      ]
    },
    {
      "cell_type": "code",
      "source": [
        "# from google.colab import drive\n",
        "# drive.mount('/content/drive')"
      ],
      "metadata": {
        "id": "_z4WcFMZ2KAx"
      },
      "execution_count": null,
      "outputs": []
    },
    {
      "cell_type": "code",
      "execution_count": null,
      "metadata": {
        "id": "HHyDC4mY2Fdy"
      },
      "outputs": [],
      "source": [
        "#### If working in local machine, google colab please use below code\n",
        "from pyspark.sql import SparkSession\n",
        "from pyspark.sql.functions import udf\n",
        "from pyspark.sql.types import StringType\n",
        "import matplotlib.pyplot as plt\n",
        "\n",
        "# Create a Spark session\n",
        "spark = SparkSession.builder.appName(\"WordFrequency\").getOrCreate()\n",
        "# spark\n",
        "spark_context = spark.sparkContext\n",
        "\n",
        "### If working in Instances please use below code\n",
        "# from pyspark.sql import SparkSession\n",
        "# from operator import add\n",
        "\n",
        "# spark_session = SparkSession\\\n",
        "#         .builder\\\n",
        "#         .master(\"spark://192.168.2.250:7077\") \\\n",
        "#         .appName(\"Group_17\")\\\n",
        "#         .config(\"spark.dynamicAllocation.enabled\", True)\\\n",
        "#         .config(\"spark.dynamicAllocation.shuffleTracking.enabled\",True)\\\n",
        "#         .config(\"spark.shuffle.service.enabled\", False)\\\n",
        "#         .config(\"spark.dynamicAllocation.executorIdleTimeout\",\"240s\")\\\n",
        "#         .config(\"spark.executor.cores\",2)\\\n",
        "#         .config(\"spark.driver.port\",9999)\\\n",
        "#         .config(\"spark.blockManager.port\",10005)\\\n",
        "#         .getOrCreate()\n",
        "\n",
        "# # RDD API\n",
        "# spark_context = spark_session.sparkContext\n",
        "\n",
        "# spark_context.setLogLevel(\"OFF\")\n",
        "# json_file_path = 'new_small_corpus-webis-tldr-17.json'\n",
        "# df = spark.read.json(f\"hdfs://192.168.2.250:9000/{json_file_path}\")\n",
        "\n",
        "\n"
      ]
    },
    {
      "cell_type": "code",
      "execution_count": null,
      "metadata": {
        "colab": {
          "base_uri": "https://localhost:8080/"
        },
        "id": "ffn1VTTy2Fd0",
        "outputId": "2808e5bf-ad5e-4e15-fdb1-df99f7d8fe79"
      },
      "outputs": [
        {
          "output_type": "stream",
          "name": "stdout",
          "text": [
            "+------+-----+\n",
            "|  word|count|\n",
            "+------+-----+\n",
            "|     I| 4706|\n",
            "|  like|  670|\n",
            "|   get|  644|\n",
            "|   one|  578|\n",
            "|people|  478|\n",
            "|  even|  372|\n",
            "|really|  370|\n",
            "|  know|  369|\n",
            "|  time|  355|\n",
            "|  make|  322|\n",
            "| going|  312|\n",
            "| think|  311|\n",
            "|    go|  302|\n",
            "|  want|  295|\n",
            "|   got|  290|\n",
            "|  much|  289|\n",
            "|  good|  277|\n",
            "|  back|  263|\n",
            "|   see|  258|\n",
            "| first|  256|\n",
            "+------+-----+\n",
            "only showing top 20 rows\n",
            "\n"
          ]
        }
      ],
      "source": [
        "from pyspark.sql.functions import explode, split, desc, col, lower, when\n",
        "from pyspark.ml.feature import StopWordsRemover\n",
        "# Specify the path to your large JSON file\n",
        "json_file_path = 'new_small_corpus-webis-tldr-17.json'\n",
        "\n",
        "df = spark.read.json(json_file_path)\n",
        "\n",
        "# print(df.take(1))\n",
        "# Explode the array of words in the \"content\" column\n",
        "# Split the 'content' column into an array of words\n",
        "df_split = df.withColumn(\"content_array\", split(col(\"content\"), \" \"))\n",
        "\n",
        "# print(df_split.take(1))\n",
        "# Explode the array of words in the \"content\" column\n",
        "df_exploded = df_split.select(\"id\", \"subreddit\", explode(\"content_array\").alias(\"word\"))\n",
        "# df_exploded.take(10)\n",
        "\n",
        "# Apply the logic to preserve \"I\" and convert other words to lowercase\n",
        "df_exploded_lower = df_exploded.withColumn(\"word\", when(col(\"word\") == \"I\", col(\"word\")).otherwise(lower(col(\"word\"))))\n",
        "# df_exploded_lower.take(10)\n",
        "# Filter out non-alphanumeric and null or spaces tokens if needed\n",
        "df_filtered = df_exploded_lower.filter(~col(\"word\").rlike(\"[^a-zA-Z0-9]\")).filter(col(\"word\").isNotNull() & (col(\"word\") != \"\"))\n",
        "\n",
        "# df_filtered.take(20)\n",
        "## filter out stopwords\n",
        "stop_words = StopWordsRemover().getStopWords()\n",
        "df_filtered_stopWords = df_filtered.filter(~col(\"word\").isin(stop_words))\n",
        "# df_filtered_stopWords.take(10)\n",
        "\n",
        "word_frequencies = df_filtered_stopWords.groupBy(\"word\").count().sort(desc(\"count\"))\n",
        "# Show the top words and their frequencies\n",
        "word_frequencies.show()"
      ]
    },
    {
      "cell_type": "code",
      "execution_count": null,
      "metadata": {
        "colab": {
          "base_uri": "https://localhost:8080/",
          "height": 607
        },
        "id": "0vp-KXld2Fd1",
        "outputId": "1d6e31c7-e3bd-4b92-cd8c-4ada21524fd0"
      },
      "outputs": [
        {
          "output_type": "display_data",
          "data": {
            "text/plain": [
              "<Figure size 1000x600 with 1 Axes>"
            ],
            "image/png": "[encoded data removed]"
          },
          "metadata": {}
        }
      ],
      "source": [
        "# Convert PySpark DataFrame to Pandas DataFrame for local plotting\n",
        "pandas_df = word_frequencies.limit(10).toPandas()\n",
        "\n",
        "# Plot the top word frequencies\n",
        "plt.figure(figsize=(10, 6))\n",
        "plt.bar(pandas_df[\"word\"], pandas_df[\"count\"])\n",
        "plt.xlabel(\"Words\")\n",
        "plt.ylabel(\"Frequency\")\n",
        "plt.title(\"Top Word Frequencies\")\n",
        "plt.xticks(rotation=45, ha=\"right\")\n",
        "plt.tight_layout()\n",
        "plt.show()\n"
      ]
    },
    {
      "cell_type": "code",
      "execution_count": null,
      "metadata": {
        "id": "mybP_Irv2Fd2",
        "outputId": "d2614f98-a9b3-4c5e-d7f2-68ae9184e584"
      },
      "outputs": [
        {
          "name": "stdout",
          "output_type": "stream",
          "text": [
            "Collecting pandas\n",
            "  Using cached https://files.pythonhosted.org/packages/79/87/8bb36bd4ebae147612c73d1bdc1385db7beebb9eb141c4bfefb33f52c87c/pandas-1.1.5-cp36-cp36m-win_amd64.whl\n",
            "Requirement not upgraded as not directly required: python-dateutil>=2.7.3 in c:\\programdata\\anaconda3\\lib\\site-packages (from pandas) (2.7.3)\n",
            "Collecting numpy>=1.15.4 (from pandas)\n",
            "  Using cached https://files.pythonhosted.org/packages/ea/bc/da526221bc111857c7ef39c3af670bbcf5e69c247b0d22e51986f6d0c5c2/numpy-1.19.5-cp36-cp36m-win_amd64.whl\n",
            "Requirement not upgraded as not directly required: pytz>=2017.2 in c:\\programdata\\anaconda3\\lib\\site-packages (from pandas) (2018.4)\n",
            "Requirement not upgraded as not directly required: six>=1.5 in c:\\programdata\\anaconda3\\lib\\site-packages (from python-dateutil>=2.7.3->pandas) (1.11.0)\n",
            "Installing collected packages: numpy, pandas\n",
            "Successfully installed numpy-1.19.5 pandas-1.1.5\n"
          ]
        },
        {
          "name": "stderr",
          "output_type": "stream",
          "text": [
            "  The script f2py.exe is installed in 'C:\\Users\\karthik\\AppData\\Roaming\\Python\\Python36\\Scripts' which is not on PATH.\n",
            "  Consider adding this directory to PATH or, if you prefer to suppress this warning, use --no-warn-script-location.\n",
            "You are using pip version 10.0.1, however version 21.3.1 is available.\n",
            "You should consider upgrading via the 'python -m pip install --upgrade pip' command.\n"
          ]
        }
      ],
      "source": [
        "!pip install --upgrade pandas --user\n"
      ]
    },
    {
      "cell_type": "code",
      "execution_count": null,
      "metadata": {
        "id": "EbT--OWb2Fd2"
      },
      "outputs": [],
      "source": []
    }
  ],
  "metadata": {
    "kernelspec": {
      "display_name": "Python 3",
      "language": "python",
      "name": "python3"
    },
    "language_info": {
      "codemirror_mode": {
        "name": "ipython",
        "version": 3
      },
      "file_extension": ".py",
      "mimetype": "text/x-python",
      "name": "python",
      "nbconvert_exporter": "python",
      "pygments_lexer": "ipython3",
      "version": "3.6.5"
    },
    "colab": {
      "provenance": []
    }
  },
  "nbformat": 4,
  "nbformat_minor": 0
}