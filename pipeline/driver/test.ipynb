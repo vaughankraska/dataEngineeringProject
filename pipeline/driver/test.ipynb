{
 "cells": [
  {
   "cell_type": "code",
   "outputs": [],
   "source": [
    "from pyspark.sql import SparkSession\n",
    "from pyspark.sql.functions import *\n",
    "from pyspark.sql.types import StringType\n",
    "import re\n",
    "import time\n",
    "from operator import add\n",
    "import pandas as pd\n",
    "import datetime\n",
    "\n",
    "############################################################\n",
    "# Setup session and files\n",
    "############################################################\n",
    "\n",
    "spark_session = SparkSession \\\n",
    "    .builder \\\n",
    "    .master(\"spark://spark-master:7077\") \\\n",
    "    .appName(\"Primary Test\") \\\n",
    "    .config(\"spark.dynamicAllocation.enabled\", True) \\\n",
    "    .config(\"spark.dynamicAllocation.shuffleTracking.enabled\",True) \\\n",
    "    .config(\"spark.shuffle.service.enabled\", False) \\\n",
    "    .config(\"spark.driver.port\", 9999) \\\n",
    "    .config(\"spark.blockManager.port\", 10005) \\\n",
    "    .config(\"spark.dynamicAllocation.executorIdleTimeout\",\"30s\") \\\n",
    "    .getOrCreate()\n",
    "\n",
    "sc = spark_session.sparkContext"
   ],
   "metadata": {
    "collapsed": false
   },
   "id": "7e51d2d512aaf1a"
  },
  {
   "cell_type": "code",
   "outputs": [],
   "source": [
    "df = spark_session.read.json('hdfs://hdfs:9000/user/ubuntu/corpus-webis-tldr-17.json')"
   ],
   "metadata": {
    "collapsed": false
   },
   "id": "9b3d6291387eca4"
  },
  {
   "cell_type": "code",
   "outputs": [],
   "source": [
    "############################################################\n",
    "# Process data\n",
    "############################################################\n",
    "\n",
    "start_time = time.time()\n",
    "\n",
    "word_array = [\"idiot\", \"dumbass\", \"asshole\", \"fuck\", \"homo\", \"queer\", \"shit\", \"slut\", \"hell\", \"dick\", \"dyke\", \"fag\", \"cunt\"]\n",
    "process_body_udf = udf(lambda field: re.sub(r'[^a-zA-Z0-9\\s\\nåäöÅÄÖ]', '', field.lower()), StringType())\n",
    "\n",
    "df = df.withColumn(\"content\", process_body_udf(\"content\"))\n",
    "\n",
    "def map_content(row):\n",
    "    subreddit = row[\"subreddit\"]\n",
    "    result = [(subreddit, word) for word in word_array if len(re.findall(r'\\b'+word+r'\\b', row[\"content\"], re.IGNORECASE)) > 0]\n",
    "    return result\n",
    "\n",
    "rdd = df.rdd.flatMap(map_content)\n",
    "\n",
    "df_result = rdd.toDF([\"subreddit\", \"word\"])\n",
    "rdd_map = rdd.map(lambda x: (x[0], (x[1], 1)))\n",
    "\n",
    "rdd_pair = rdd_map.map(lambda x: ((x[0], x[1][0]), x[1][1]))\n",
    "\n",
    "rdd_counts = rdd_pair.reduceByKey(add)\n",
    "\n",
    "rdd_subreddit= rdd_counts.map(lambda x: (x[0][0], x[0][1], x[1]))\n",
    "df = rdd_subreddit.toDF([\"subreddit\", \"word\", \"count\"])\n",
    "\n",
    "pivoted_df = df.groupBy(\"subreddit\").pivot(\"word\").sum(\"count\").na.fill(0)\n",
    "\n",
    "final_df = pivoted_df.withColumn('sum', expr(\" + \".join(word_array)))\n",
    "final_df = final_df.filter(col('sum') > 0)\n",
    "final_df = final_df.orderBy(col('sum').desc())\n",
    "\n",
    "final_df.show()\n",
    "end_time = time.time()\n",
    "\n",
    "final_df = final_df.repartition(1)\n",
    "final_df.toPandas().to_csv(f\"final_results_{datetime.datetime.utcnow()}.csv\", index=False)"
   ],
   "metadata": {
    "collapsed": false
   },
   "id": "16baedb08be89c38"
  },
  {
   "cell_type": "code",
   "outputs": [],
   "source": [
    "time_taken = end_time - start_time\n",
    "performance = f\"time taken to run : {time_taken} seconds \\n {datetime.datetime.utcnow()} (UTC)\"\n",
    "print(performance)\n",
    "with open(f'performance_{datetime.datetime.now()}', 'w') as file:\n",
    "    file.write(performance)"
   ],
   "metadata": {
    "collapsed": false
   },
   "id": "f1559e20ea1e2ec"
  },
  {
   "cell_type": "code",
   "outputs": [],
   "source": [
    "sc.stop()"
   ],
   "metadata": {
    "collapsed": false,
    "is_executing": true
   },
   "id": "8b8f715fedac16d0",
   "execution_count": null
  },
  {
   "cell_type": "code",
   "outputs": [],
   "source": [],
   "metadata": {
    "collapsed": false
   },
   "id": "2f787b7278191241"
  }
 ],
 "metadata": {
  "kernelspec": {
   "display_name": "Python 3",
   "language": "python",
   "name": "python3"
  },
  "language_info": {
   "codemirror_mode": {
    "name": "ipython",
    "version": 2
   },
   "file_extension": ".py",
   "mimetype": "text/x-python",
   "name": "python",
   "nbconvert_exporter": "python",
   "pygments_lexer": "ipython2",
   "version": "2.7.6"
  }
 },
 "nbformat": 4,
 "nbformat_minor": 5
}
