{
 "cells": [
  {
   "cell_type": "code",
   "execution_count": 1,
   "id": "initial_id",
   "metadata": {
    "collapsed": true,
    "ExecuteTime": {
     "end_time": "2024-03-10T20:24:41.378581Z",
     "start_time": "2024-03-10T20:24:38.733771Z"
    }
   },
   "outputs": [],
   "source": [
    "from pyspark.sql import SparkSession\n",
    "from pyspark.sql.functions import *\n",
    "import time\n",
    "from datetime import datetime\n",
    "\n",
    "spark_session = SparkSession \\\n",
    "    .builder \\\n",
    "    .master(\"spark://spark-master:7077\") \\\n",
    "    .appName(\"Primary Test\") \\\n",
    "    .config(\"spark.dynamicAllocation.enabled\", True) \\\n",
    "    .config(\"spark.dynamicAllocation.shuffleTracking.enabled\",True) \\\n",
    "    .config(\"spark.shuffle.service.enabled\", False) \\\n",
    "    .config(\"spark.driver.port\", 9999) \\\n",
    "    .config(\"spark.blockManager.port\", 10005) \\\n",
    "    .config(\"spark.dynamicAllocation.executorIdleTimeout\",\"30s\") \\\n",
    "    .getOrCreate()\n",
    "\n",
    "sc = spark_session.sparkContext"
   ]
  },
  {
   "cell_type": "code",
   "outputs": [],
   "source": [
    "start_time = time.time()\n",
    "\n",
    "df = spark_session.read.json('hdfs://hdfs:9000/user/ubuntu/corpus-webis-tldr-17.json')\n",
    "df_split = df.withColumn(\"content_array\", split(col(\"content\"), \" \"))\n",
    "df_exploded = df_split.select(\"id\", \"subreddit\", explode(\"content_array\").alias(\"word\"))\n",
    "df_exploded_lower = df_exploded.withColumn(\"word\", when(col(\"word\") == \"I\", col(\"word\")).otherwise(lower(col(\"word\"))))\n",
    "df_filtered = df_exploded_lower.filter(~col(\"word\").rlike(\"[^a-zA-Z0-9]\")).filter(col(\"word\").isNotNull() & (col(\"word\") != \"\"))\n",
    "df_swear_list = ['anal', 'anus', 'arse', 'ass', 'balls', 'ballsack', 'bastard', 'biatch', 'bitch', 'bloody', 'blow job', 'blowjob', 'bollock', 'bollok', 'boner', 'boob', 'bugger', 'bum', 'butt', 'buttplug', 'clitoris', 'cock', 'coon', 'crap', 'cunt', 'damn', 'dick', 'dildo', 'dyke', 'f u c k', 'fag', 'feck', 'felching', 'fellate', 'fellatio', 'flange', 'fuck', 'fudge packer', 'fudgepacker', 'God damn', 'Goddamn', 'hell', 'homo', 'jerk', 'jizz', 'knob end', 'knobend', 'labia', 'lmao', 'lmfao', 'muff', 'nigga', 'nigger', 'omg', 'penis', 'piss', 'poop', 'prick', 'pube', 'pussy', 'queer', 's hit', 'scrotum', 'sex', 'sh1t', 'shit', 'slut', 'smegma', 'spunk', 'tit', 'tosser', 'turd', 'twat', 'vagina', 'wank', 'whore', 'wtf']\n",
    "df_filtered_swearWords = df_filtered.filter(col(\"word\").isin(df_swear_list)).select(\"subreddit\", \"word\")\n",
    "word_frequencies = df_filtered_swearWords.groupBy(\"subreddit\").agg(collect_list(\"word\").alias(\"curse_words\"))\n",
    "df_exploded1 = word_frequencies.select(\"subreddit\", explode(\"curse_words\").alias(\"word\"))\n",
    "result_list = df_exploded1.groupBy(\"subreddit\",\"word\").count().sort(desc(\"count\"))\n",
    "\n",
    "end_time = time.time()"
   ],
   "metadata": {
    "collapsed": false,
    "is_executing": true,
    "ExecuteTime": {
     "start_time": "2024-03-10T20:24:48.029661Z"
    }
   },
   "id": "eb8df9070dcbecab",
   "execution_count": null
  },
  {
   "cell_type": "code",
   "outputs": [],
   "source": [
    "elapsed_time = end_time - start_time\n",
    "print(f\"Processing time: {elapsed_time} seconds\")\n",
    "timestamp = datetime.now().strftime(\"%Y-%m-%d_%H-%M-%S\")\n",
    "result_list.write.csv(f'curse_word_frequencies_{timestamp}.csv', header=True, mode='overwrite')\n",
    "\n",
    "time_results = spark_session.createDataFrame([(timestamp, elapsed_time)], [\"timestamp\", \"processing_time\"])\n",
    "time_results.write.csv(f'time_results_{timestamp}.csv', header=True, mode='overwrite')"
   ],
   "metadata": {
    "collapsed": false
   },
   "id": "a1b614b658c3460b"
  },
  {
   "cell_type": "code",
   "outputs": [],
   "source": [
    "sc.stop()"
   ],
   "metadata": {
    "collapsed": false,
    "is_executing": true
   },
   "id": "8b8f715fedac16d0",
   "execution_count": null
  },
  {
   "cell_type": "code",
   "outputs": [],
   "source": [],
   "metadata": {
    "collapsed": false
   },
   "id": "2f787b7278191241"
  }
 ],
 "metadata": {
  "kernelspec": {
   "display_name": "Python 3",
   "language": "python",
   "name": "python3"
  },
  "language_info": {
   "codemirror_mode": {
    "name": "ipython",
    "version": 2
   },
   "file_extension": ".py",
   "mimetype": "text/x-python",
   "name": "python",
   "nbconvert_exporter": "python",
   "pygments_lexer": "ipython2",
   "version": "2.7.6"
  }
 },
 "nbformat": 4,
 "nbformat_minor": 5
}
