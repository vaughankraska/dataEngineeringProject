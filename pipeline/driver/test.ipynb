{
 "cells": [
  {
   "cell_type": "code",
   "outputs": [],
   "source": [
    "from pyspark.sql import SparkSession\n",
    "from pyspark.sql.functions import *\n",
    "from pyspark.sql.types import StringType\n",
    "import re\n",
    "import time\n",
    "from datetime import datetime\n",
    "\n",
    "############################################################\n",
    "# Setup session and files\n",
    "############################################################\n",
    "\n",
    "spark_session = SparkSession \\\n",
    "    .builder \\\n",
    "    .master(\"spark://spark-master:7077\") \\\n",
    "    .appName(\"Primary Test\") \\\n",
    "    .config(\"spark.dynamicAllocation.enabled\", True) \\\n",
    "    .config(\"spark.dynamicAllocation.shuffleTracking.enabled\",True) \\\n",
    "    .config(\"spark.shuffle.service.enabled\", False) \\\n",
    "    .config(\"spark.driver.port\", 9999) \\\n",
    "    .config(\"spark.blockManager.port\", 10005) \\\n",
    "    .config(\"spark.dynamicAllocation.executorIdleTimeout\",\"30s\") \\\n",
    "    .getOrCreate()\n",
    "\n",
    "sc = spark_session.sparkContext"
   ],
   "metadata": {
    "collapsed": false
   },
   "id": "7e51d2d512aaf1a"
  },
  {
   "cell_type": "code",
   "outputs": [],
   "source": [
    "start_time = time.time()\n",
    "\n",
    "df = spark_session.read.json('hdfs://hdfs:9000/user/ubuntu/corpus-webis-tldr-17.json')\n",
    "df.take(1)"
   ],
   "metadata": {
    "collapsed": false
   },
   "id": "9b3d6291387eca4"
  },
  {
   "cell_type": "code",
   "outputs": [],
   "source": [
    "############################################################\n",
    "# Process data\n",
    "############################################################\n",
    "\n",
    "import json\n",
    "\n",
    "word_array = [\"idiot\", \"dumbass\", \"asshole\", \"cunt\"]\n",
    "process_body_udf = udf(lambda field: re.sub(r'[^a-zA-Z0-9\\s\\nåäöÅÄÖ]', '', field.lower()), StringType())\n",
    "\n",
    "df = df.withColumn(\"content\", process_body_udf(\"content\"))\n",
    "\n",
    "def map_content(row):\n",
    "    subreddit = row[\"subreddit\"]\n",
    "    result = [(subreddit, word) for word in word_array if len(re.findall(r'\\b'+word+r'\\b', row[\"content\"], re.IGNORECASE)) > 0]\n",
    "    return result\n",
    "\n",
    "rdd = df.rdd.flatMap(map_content)\n",
    "\n",
    "rdd.take(10)\n",
    "\n",
    "df_result = rdd.toDF([\"subreddit\", \"word\"])\n",
    "\n",
    "df_result.show()"
   ],
   "metadata": {
    "collapsed": false
   },
   "id": "4fa606bc3a73e250"
  },
  {
   "cell_type": "code",
   "outputs": [],
   "source": [
    "rdd_map = rdd.map(lambda x: (x[0], (x[1], 1)))\n",
    "rdd_map.take(10)"
   ],
   "metadata": {
    "collapsed": false
   },
   "id": "f406c5eb1073d65"
  },
  {
   "cell_type": "code",
   "outputs": [],
   "source": [
    "rdd_pair = rdd_map.map(lambda x: ((x[0], x[1][0]), x[1][1]))\n",
    "rdd_pair.take(10)"
   ],
   "metadata": {
    "collapsed": false
   },
   "id": "1db7d59f9ee7fda5"
  },
  {
   "cell_type": "code",
   "outputs": [],
   "source": [
    "from operator import add\n",
    "\n",
    "rdd_counts = rdd_pair.reduceByKey(add)\n",
    "rdd_counts.take(10)"
   ],
   "metadata": {
    "collapsed": false
   },
   "id": "5f6ac53ea676f736"
  },
  {
   "cell_type": "code",
   "outputs": [],
   "source": [
    "rdd_subreddit= rdd_counts.map(lambda x: (x[0][0], x[0][1], x[1]))\n",
    "rdd_subreddit.take(10)"
   ],
   "metadata": {
    "collapsed": false
   },
   "id": "c5fdac77f5f74227"
  },
  {
   "cell_type": "code",
   "outputs": [],
   "source": [
    "df = rdd_subreddit.toDF([\"subreddit\", \"word\", \"count\"])\n",
    "\n",
    "pivoted_df = df.groupBy(\"subreddit\").pivot(\"word\").sum(\"count\").na.fill(0)\n",
    "\n",
    "pivoted_df.show()"
   ],
   "metadata": {
    "collapsed": false
   },
   "id": "16baedb08be89c38"
  },
  {
   "cell_type": "code",
   "outputs": [],
   "source": [],
   "metadata": {
    "collapsed": false
   },
   "id": "2128329266ffe94f"
  },
  {
   "cell_type": "code",
   "outputs": [],
   "source": [
    "sc.stop()"
   ],
   "metadata": {
    "collapsed": false,
    "is_executing": true
   },
   "id": "8b8f715fedac16d0",
   "execution_count": null
  },
  {
   "cell_type": "code",
   "outputs": [],
   "source": [],
   "metadata": {
    "collapsed": false
   },
   "id": "2f787b7278191241"
  }
 ],
 "metadata": {
  "kernelspec": {
   "display_name": "Python 3",
   "language": "python",
   "name": "python3"
  },
  "language_info": {
   "codemirror_mode": {
    "name": "ipython",
    "version": 2
   },
   "file_extension": ".py",
   "mimetype": "text/x-python",
   "name": "python",
   "nbconvert_exporter": "python",
   "pygments_lexer": "ipython2",
   "version": "2.7.6"
  }
 },
 "nbformat": 4,
 "nbformat_minor": 5
}
