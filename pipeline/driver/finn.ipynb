{
 "cells": [
  {
   "cell_type": "code",
   "execution_count": 1,
   "id": "initial_id",
   "metadata": {},
   "outputs": [
    {
     "name": "stderr",
     "output_type": "stream",
     "text": [
      "Setting default log level to \"WARN\".\n",
      "To adjust logging level use sc.setLogLevel(newLevel). For SparkR, use setLogLevel(newLevel).\n",
      "24/03/10 22:34:48 WARN NativeCodeLoader: Unable to load native-hadoop library for your platform... using builtin-java classes where applicable\n",
      "24/03/10 22:34:48 WARN StandaloneSchedulerBackend: Dynamic allocation enabled without spark.executor.cores explicitly set, you may get more executors allocated than expected. It's recommended to set spark.executor.cores explicitly. Please check SPARK-30299 for more details.\n",
      "/usr/local/lib/python3.10/dist-packages/pyspark/sql/context.py:113: FutureWarning: Deprecated in 3.0.0. Use SparkSession.builder.getOrCreate() instead.\n",
      "  warnings.warn(\n"
     ]
    }
   ],
   "source": [
    "from pyspark.sql import SparkSession, SQLContext\n",
    "from pyspark.sql.functions import *\n",
    "import time\n",
    "from datetime import datetime\n",
    "\n",
    "spark_session = SparkSession \\\n",
    "    .builder \\\n",
    "    .master(\"spark://spark-master:7077\") \\\n",
    "    .appName(\"Finn Test\") \\\n",
    "    .config(\"spark.dynamicAllocation.enabled\", True) \\\n",
    "    .config(\"spark.dynamicAllocation.shuffleTracking.enabled\",True) \\\n",
    "    .config(\"spark.shuffle.service.enabled\", False) \\\n",
    "    .config(\"spark.driver.port\", 9999) \\\n",
    "    .config(\"spark.blockManager.port\", 10005) \\\n",
    "    .config(\"spark.dynamicAllocation.executorIdleTimeout\",\"30s\") \\\n",
    "    .getOrCreate()\n",
    "\n",
    "sc = spark_session.sparkContext\n",
    "sqlContext = SQLContext(spark_session.sparkContext)"
   ]
  },
  {
   "cell_type": "code",
   "execution_count": 2,
   "id": "22a62e8eeca15f66",
   "metadata": {
    "collapsed": false,
    "jupyter": {
     "outputs_hidden": false
    }
   },
   "outputs": [
    {
     "name": "stderr",
     "output_type": "stream",
     "text": [
      "                                                                                \r"
     ]
    },
    {
     "name": "stdout",
     "output_type": "stream",
     "text": [
      "+------------------+--------------------+--------------------+-----------+-------+--------------------+--------------------+------------+--------------------+-----------+--------+\n",
      "|            author|                body|             content|content_len|     id|      normalizedBody|           subreddit|subreddit_id|             summary|summary_len|   title|\n",
      "+------------------+--------------------+--------------------+-----------+-------+--------------------+--------------------+------------+--------------------+-----------+--------+\n",
      "|  raysofdarkmatter|I think it should...|I think it should...|        178|c69al3r|I think it should...|                math|    t5_2qh0n|Shifting seasonal...|          8|    NULL|\n",
      "|           Stork13|Art is about the ...|Art is about the ...|        148|c6a9nxd|Art is about the ...|               funny|    t5_2qh33|Personal opinions...|          4|    NULL|\n",
      "|     Cloud_dreamer|Ask me what I thi...|Ask me what I thi...|         76|c6acx4l|Ask me what I thi...|         Borderlands|    t5_2r8cd|insults and slack...|         73|    NULL|\n",
      "|     NightlyReaper|In Mechwarrior On...|In Mechwarrior On...|        213|c8onqew|In Mechwarrior On...|            gamingpc|    t5_2sq2y|Yes, Joysticks in...|         19|    NULL|\n",
      "|    NuffZetPand0ra|You are talking a...|You are talking a...|        404|c6acxvc|You are talking a...|              Diablo|    t5_2qore|Class only items ...|          7|D2 help?|\n",
      "|beatlecreedcabaret|All but one of my...|All but one of my...|        130|c6ahuc4|All but one of my...|   RedditLaqueristas|    t5_2se5q|      OPI Nail Envy!|          3|    NULL|\n",
      "|      nobodysdiary|I could give a sh...|I could give a sh...|        156|c6aggux|I could give a sh...|               apple|    t5_2qh1f|I don't drive lik...|         18|    NULL|\n",
      "|          chrom_ed|So you're saying ...|So you're saying ...|        134|c6agxtv|So you're saying ...|               apple|    t5_2qh1f|you don't seem to...|          9|    NULL|\n",
      "|      gadzookfilms|I love this idea ...|I love this idea ...|        126|c6asb7p|I love this idea ...|RedditFilmsProduc...|    t5_2v33h|How we make money...|          9|    NULL|\n",
      "|      iamacannibal|Theres an entire ...|Theres an entire ...|        181|c6aveyw|Theres an entire ...|       AbandonedPorn|    t5_2sh6t|I'll try and get ...|         25|    NULL|\n",
      "| splagaticusxoxo97|FALSE. Evidence: ...|FALSE. Evidence: ...|        124|c6bacqq|FALSE. Evidence: ...|             atheism|    t5_2qh2p|dont fuck with re...|          6|    NULL|\n",
      "|           orthzar|If the number of ...|If the number of ...|         12|c6b83kp|If the number of ...|              quotes|    t5_2qhdx|                  no|          1|    NULL|\n",
      "|          phyzishy|Yeah, but most fo...|Yeah, but most fo...|         75|c6b52m8|Yeah, but most fo...|           AskReddit|    t5_2qh1i|       stupid stuff.|          2|    NULL|\n",
      "|          Wheelman|As an entrepreneu...|As an entrepreneu...|         78|c6b34c2|As an entrepreneu...|     personalfinance|    t5_2qstm|get a good CPA - ...|         14|    NULL|\n",
      "|        slagahthor|i guess the way I...|i guess the way I...|        323|c6b9gqo|i guess the way I...|             Animals|    t5_2qi0c|Dog neglected for...|          7|    NULL|\n",
      "|        Perservere|Didn't they lose ...|Didn't they lose ...|         86|c6bftvc|Didn't they lose ...|     leagueoflegends|    t5_2rfxx|just because you'...|         23|    NULL|\n",
      "|       fallsuspect|You probably won'...|You probably won'...|         79|c6bncqn|You probably won'...|           AskReddit|    t5_2qh1i|just get both of ...|         11|    NULL|\n",
      "|          captain0|To simply say tha...|To simply say tha...|        328|c6btcx4|To simply say tha...|              videos|    t5_2qh1e| Oppan Gangnam Style|          3|    NULL|\n",
      "|    Buck_Speedjunk|This picture does...|This picture does...|         18|c6c4uks|This picture does...|               trees|    t5_2r9vp|It's a half-assed...|         13|    NULL|\n",
      "|        FrankManic|And that is, hand...|And that is, hand...|         57|c6c7pgn|And that is, hand...|               Games|    t5_2qhwp|Play balance is f...|         13|    NULL|\n",
      "+------------------+--------------------+--------------------+-----------+-------+--------------------+--------------------+------------+--------------------+-----------+--------+\n",
      "only showing top 20 rows\n",
      "\n"
     ]
    }
   ],
   "source": [
    "start_time = time.time()\n",
    "df = spark_session.read.json('hdfs://hdfs:9000/user/ubuntu/corpus-webis-tldr-17.json')\n",
    "df.show()"
   ]
  },
  {
   "cell_type": "code",
   "execution_count": 3,
   "id": "2b6466da-986a-48a2-ae1b-4b04387587ae",
   "metadata": {},
   "outputs": [
    {
     "name": "stdout",
     "output_type": "stream",
     "text": [
      "root\n",
      " |-- author: string (nullable = true)\n",
      " |-- body: string (nullable = true)\n",
      " |-- content: string (nullable = true)\n",
      " |-- content_len: long (nullable = true)\n",
      " |-- id: string (nullable = true)\n",
      " |-- normalizedBody: string (nullable = true)\n",
      " |-- subreddit: string (nullable = true)\n",
      " |-- subreddit_id: string (nullable = true)\n",
      " |-- summary: string (nullable = true)\n",
      " |-- summary_len: long (nullable = true)\n",
      " |-- title: string (nullable = true)\n",
      "\n"
     ]
    }
   ],
   "source": [
    "df.printSchema()"
   ]
  },
  {
   "cell_type": "code",
   "execution_count": 4,
   "id": "ce80d373-ed9d-4139-b90f-1b2733e5a8a0",
   "metadata": {},
   "outputs": [
    {
     "name": "stderr",
     "output_type": "stream",
     "text": [
      "                                                                                \r"
     ]
    },
    {
     "data": {
      "text/plain": [
       "3848330"
      ]
     },
     "execution_count": 4,
     "metadata": {},
     "output_type": "execute_result"
    }
   ],
   "source": [
    "df.count()"
   ]
  },
  {
   "cell_type": "code",
   "execution_count": 6,
   "id": "21d119c1-f4a9-41f4-b6d1-793d68e31236",
   "metadata": {},
   "outputs": [
    {
     "name": "stderr",
     "output_type": "stream",
     "text": [
      "[Stage 8:======================================================>(146 + 1) / 147]\r"
     ]
    },
    {
     "name": "stdout",
     "output_type": "stream",
     "text": [
      "+-------------------+----------------+\n",
      "|          subreddit|occurrence_count|\n",
      "+-------------------+----------------+\n",
      "|          AskReddit|          194826|\n",
      "|      relationships|          122164|\n",
      "|               tifu|           27889|\n",
      "|                sex|           21166|\n",
      "|relationship_advice|           18671|\n",
      "|    leagueoflegends|           16120|\n",
      "|              trees|           14171|\n",
      "|      AdviceAnimals|           12176|\n",
      "|              funny|           11138|\n",
      "|            atheism|           10132|\n",
      "|             gaming|           10095|\n",
      "|         offmychest|            9073|\n",
      "|               pics|            8317|\n",
      "|    TwoXChromosomes|            7895|\n",
      "|           politics|            7609|\n",
      "|                WTF|            7584|\n",
      "|              NoFap|            6451|\n",
      "|             AskMen|            5526|\n",
      "|               IAmA|            5495|\n",
      "|             videos|            5435|\n",
      "+-------------------+----------------+\n",
      "only showing top 20 rows\n",
      "\n"
     ]
    },
    {
     "name": "stderr",
     "output_type": "stream",
     "text": [
      "                                                                                \r"
     ]
    }
   ],
   "source": [
    "df.createOrReplaceTempView('reddit') \n",
    "occurences_by_subreddit = sqlContext.sql(\"\"\"\n",
    "SELECT\n",
    "    subreddit,\n",
    "    COUNT(*) as occurrence_count\n",
    "FROM\n",
    "    reddit\n",
    "WHERE\n",
    "    LOWER(body) LIKE '% anal %' OR \n",
    "    LOWER(body) LIKE '% anus %' OR \n",
    "    LOWER(body) LIKE '% ass %' OR \n",
    "    LOWER(body) LIKE '% ballsack %' OR \n",
    "    LOWER(body) LIKE '% bastard %' OR \n",
    "    LOWER(body) LIKE '% biatch %' OR \n",
    "    LOWER(body) LIKE '% bitch %' OR \n",
    "    LOWER(body) LIKE '% bloody %' OR \n",
    "    LOWER(body) LIKE '% blow job %' OR \n",
    "    LOWER(body) LIKE '% blowjob %' OR \n",
    "    LOWER(body) LIKE '% boner %' OR \n",
    "    LOWER(body) LIKE '% buttplug %' OR \n",
    "    LOWER(body) LIKE '% cock %' OR \n",
    "    LOWER(body) LIKE '% coon %' OR \n",
    "    LOWER(body) LIKE '% crap %' OR \n",
    "    LOWER(body) LIKE '% cunt %' OR \n",
    "    LOWER(body) LIKE '% damn %' OR \n",
    "    LOWER(body) LIKE '% dick %' OR \n",
    "    LOWER(body) LIKE '% dildo %' OR \n",
    "    LOWER(body) LIKE '% dyke %' OR \n",
    "    LOWER(body) LIKE '% f u c k %' OR \n",
    "    LOWER(body) LIKE '% fag %' OR \n",
    "    LOWER(body) LIKE '% felching %' OR \n",
    "    LOWER(body) LIKE '% fellate %' OR \n",
    "    LOWER(body) LIKE '% fellatio %' OR \n",
    "    LOWER(body) LIKE '% flange %' OR \n",
    "    LOWER(body) LIKE '% fuck %' OR \n",
    "    LOWER(body) LIKE '% fudge packer %' OR \n",
    "    LOWER(body) LIKE '% fudgepacker %' OR \n",
    "    LOWER(body) LIKE '% god damn %' OR \n",
    "    LOWER(body) LIKE '% goddamn %' OR \n",
    "    LOWER(body) LIKE '% hell %' OR \n",
    "    LOWER(body) LIKE '% homo %' OR \n",
    "    LOWER(body) LIKE '% jerk %' OR \n",
    "    LOWER(body) LIKE '% jizz %' OR \n",
    "    LOWER(body) LIKE '% muff %' OR \n",
    "    LOWER(body) LIKE '% nigga %' OR \n",
    "    LOWER(body) LIKE '% nigger %' OR \n",
    "    LOWER(body) LIKE '% omg %' OR \n",
    "    LOWER(body) LIKE '% penis %' OR \n",
    "    LOWER(body) LIKE '% piss %' OR \n",
    "    LOWER(body) LIKE '% poop %' OR \n",
    "    LOWER(body) LIKE '% prick %' OR \n",
    "    LOWER(body) LIKE '% pube %' OR \n",
    "    LOWER(body) LIKE '% pussy %' OR \n",
    "    LOWER(body) LIKE '% queer %' OR \n",
    "    LOWER(body) LIKE '% s hit %' OR \n",
    "    LOWER(body) LIKE '% scrotum %' OR \n",
    "    LOWER(body) LIKE '% sex %' OR \n",
    "    LOWER(body) LIKE '% sh1t %' OR \n",
    "    LOWER(body) LIKE '% shit %' OR \n",
    "    LOWER(body) LIKE '% slut %' OR \n",
    "    LOWER(body) LIKE '% smegma %' OR \n",
    "    LOWER(body) LIKE '% spunk %' OR \n",
    "    LOWER(body) LIKE '% tit %' OR \n",
    "    LOWER(body) LIKE '% turd %' OR \n",
    "    LOWER(body) LIKE '% twat %' OR \n",
    "    LOWER(body) LIKE '% wank %' OR \n",
    "    LOWER(body) LIKE '% whore %' \n",
    "GROUP BY\n",
    "    subreddit\n",
    "ORDER BY\n",
    "    occurrence_count DESC\"\"\").dropna('any')\n",
    "occurences_by_subreddit.show()"
   ]
  },
  {
   "cell_type": "code",
   "execution_count": null,
   "id": "67c83492-168f-4c1a-921e-a31bf8f84b4a",
   "metadata": {},
   "outputs": [],
   "source": []
  }
 ],
 "metadata": {
  "kernelspec": {
   "display_name": "Python 3 (ipykernel)",
   "language": "python",
   "name": "python3"
  },
  "language_info": {
   "codemirror_mode": {
    "name": "ipython",
    "version": 3
   },
   "file_extension": ".py",
   "mimetype": "text/x-python",
   "name": "python",
   "nbconvert_exporter": "python",
   "pygments_lexer": "ipython3",
   "version": "3.10.12"
  }
 },
 "nbformat": 4,
 "nbformat_minor": 5
}
